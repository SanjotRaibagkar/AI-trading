{
 "cells": [
  {
   "cell_type": "code",
   "execution_count": 167,
   "metadata": {},
   "outputs": [
    {
     "data": {
      "text/html": [
       "<style>.container { width:80% !important; }</style>"
      ],
      "text/plain": [
       "<IPython.core.display.HTML object>"
      ]
     },
     "metadata": {},
     "output_type": "display_data"
    }
   ],
   "source": [
    "import datetime\n",
    "import numpy as np\n",
    "import pandas as pd\n",
    "import random\n",
    "\n",
    "from scipy.signal import find_peaks\n",
    "\n",
    "import matplotlib.dates as mdates\n",
    "import matplotlib.pyplot as plt\n",
    "from mpl_finance import candlestick_ohlc\n",
    "import matplotlib.dates as mdates\n",
    "from matplotlib.dates import MONDAY, DateFormatter, DayLocator, WeekdayLocator\n",
    "\n",
    "%matplotlib inline\n",
    "\n",
    "import vasu\n",
    "\n",
    "from IPython.core.display import display, HTML\n",
    "display(HTML(\"<style>.container { width:80% !important; }</style>\"))"
   ]
  },
  {
   "cell_type": "code",
   "execution_count": 168,
   "metadata": {},
   "outputs": [],
   "source": [
    "STOCK_NAME = 'HPCL'\n",
    "STOCK_PRICE_FILE = './../database/500104.csv'"
   ]
  },
  {
   "cell_type": "code",
   "execution_count": 169,
   "metadata": {},
   "outputs": [],
   "source": [
    "price_data = pd.read_csv(STOCK_PRICE_FILE,index_col = 0, parse_dates = True,\n",
    "                             usecols = [u'Date',u'Open Price', u'High Price', u'Low Price', u'Close Price'],\n",
    "                             dtype= {u'Open Price':np.float64,u'High Price':np.float64,\n",
    "                                     u'Low Price':np.float64,u'Close Price':np.float64}).sort_index()"
   ]
  },
  {
   "cell_type": "code",
   "execution_count": 170,
   "metadata": {},
   "outputs": [],
   "source": [
    "sample_data = price_data.loc[datetime.date(year=2017,month=7,day=11):datetime.date(year=2017,month=9,day=11)]"
   ]
  },
  {
   "cell_type": "code",
   "execution_count": 171,
   "metadata": {},
   "outputs": [],
   "source": [
    "trend_data = vasu.get_trend_data(sample_data)"
   ]
  },
  {
   "cell_type": "code",
   "execution_count": 172,
   "metadata": {},
   "outputs": [],
   "source": [
    "def split_data(dataframe):\n",
    "    train_data = dataframe[(dataframe['high_slope'].notnull()) | (dataframe['low_slope'].notnull())].copy()\n",
    "    test_data = dataframe[~((dataframe['high_slope'].notnull()) | (dataframe['low_slope'].notnull()))].copy()\n",
    "    return train_data,test_data"
   ]
  },
  {
   "cell_type": "code",
   "execution_count": 173,
   "metadata": {},
   "outputs": [],
   "source": [
    "train_data,test_data = split_data(trend_data)"
   ]
  },
  {
   "cell_type": "code",
   "execution_count": 176,
   "metadata": {},
   "outputs": [],
   "source": [
    "def get_latest_peak_info(dataframe):\n",
    "    return_dict = {}\n",
    "    high_data = dataframe[dataframe['high_slope'].notnull()].tail(1)\n",
    "    low_data = dataframe[dataframe['low_slope'].notnull()].tail(1)\n",
    "    latest_high_date = high_data.index.to_pydatetime()[0]\n",
    "    latest_low_date = low_data.index.to_pydatetime()[0]\n",
    "\n",
    "    if latest_high_date > latest_low_date:\n",
    "        return_dict['peak_type'] = 'high'\n",
    "        return_dict['peak_data'] = high_data\n",
    "    elif latest_high_date < latest_low_date:\n",
    "        return_dict['peak_type'] = 'low'\n",
    "        return_dict['peak_data'] = low_data\n",
    "    else:\n",
    "        return_dict['peak_type'] = 'high&low'\n",
    "        return_dict['peak_data'] = low_data\n",
    "    \n",
    "    return return_dict"
   ]
  },
  {
   "cell_type": "code",
   "execution_count": 182,
   "metadata": {},
   "outputs": [],
   "source": [
    "peak_info =  get_latest_peak_info(train_data)\n",
    "peak_type = peak_info['peak_type']\n",
    "peak_data = peak_info['peak_data']"
   ]
  },
  {
   "cell_type": "code",
   "execution_count": 201,
   "metadata": {},
   "outputs": [],
   "source": [
    "peak_date = peak_data.index.to_pydatetime()[0]\n",
    "trend_before_peak = peak_data['trend'].values[0]\n",
    "peak_high_slope = peak_data['high_slope'].values[0]\n",
    "peak_low_slope = peak_data['low_slope'].values[0]\n",
    "peak_high = peak_data['High Price'].values[0]\n",
    "peak_low = peak_data['Low Price'].values[0]"
   ]
  },
  {
   "cell_type": "markdown",
   "metadata": {},
   "source": [
    "### Higher high after bullish or sideways trend"
   ]
  },
  {
   "cell_type": "code",
   "execution_count": 219,
   "metadata": {},
   "outputs": [],
   "source": [
    "if (peak_type == 'high') and (peak_high_slope > 0.0) and (trend_before_peak != 'bearish'):\n",
    "    low_mark_price = peak_low\n",
    "    signal_data = test_data[test_data['Close Price'] < low_mark_price][1:2].copy()"
   ]
  },
  {
   "cell_type": "code",
   "execution_count": 221,
   "metadata": {},
   "outputs": [
    {
     "name": "stdout",
     "output_type": "stream",
     "text": [
      "Sell!\n",
      "Benchmark Price is : 479.50\n",
      "Signal Date is : 2017-09-06 00:00:00\n",
      "Closing Price on signal is : 476.05\n"
     ]
    }
   ],
   "source": [
    "if len(signal_data) > 0:\n",
    "    print('Sell!')\n",
    "    print('Benchmark Price is : %.2f' % low_mark_price)\n",
    "    print('Signal Date is : %s' % signal_data.index.to_pydatetime()[0])\n",
    "    print('Closing Price on signal is : %.2f' % signal_data['Close Price'].values)"
   ]
  },
  {
   "cell_type": "code",
   "execution_count": 222,
   "metadata": {},
   "outputs": [],
   "source": [
    "signal_to_end_data = trend_data.loc[peak_date:].copy()\n",
    "signal_to_end_data['benchmark price'] = low_mark_price\n",
    "benchmark_series = signal_to_end_data['benchmark price']"
   ]
  },
  {
   "cell_type": "code",
   "execution_count": 223,
   "metadata": {},
   "outputs": [
    {
     "data": {
      "image/png": "[encoded data removed]",
      "text/plain": [
       "<Figure size 1152x504 with 1 Axes>"
      ]
     },
     "metadata": {},
     "output_type": "display_data"
    }
   ],
   "source": [
    "fig, ax = plt.subplots(figsize = (16,7))\n",
    "fig.subplots_adjust(bottom=0.2)\n",
    "\n",
    "quotes = zip(mdates.date2num(sample_data.index.to_pydatetime()),sample_data[u'Open Price'], \n",
    "                             sample_data[u'High Price'],sample_data[u'Low Price'], sample_data[u'Close Price'])\n",
    "candlestick_ohlc(ax,quotes,width=0.75,colorup='grey',colordown='black' ,alpha=0.5)\n",
    "\n",
    "plt.plot(benchmark_series, \"-\", color='blue', alpha = 0.4)\n",
    "plt.plot(signal_data['Close Price'], \"v\", color='red',markersize=10,alpha = 0.8)\n",
    "plt.plot(peak_data['Close Price'], \"x\", color='b',markersize=10, alpha = 0.8)\n",
    "\n",
    "ax.xaxis_date()\n",
    "ax.legend([STOCK_NAME],loc='upper right', shadow=True, fancybox=True)\n",
    "ax.autoscale_view()\n",
    "plt.setp(plt.gca().get_xticklabels(), rotation=45, horizontalalignment='right')\n",
    "\n",
    "plt.rc('axes', grid=True)\n",
    "plt.rc('grid', color='0.75', linestyle='-', linewidth=0.5)\n",
    "plt.show()"
   ]
  },
  {
   "cell_type": "code",
   "execution_count": null,
   "metadata": {},
   "outputs": [],
   "source": []
  }
 ],
 "metadata": {
  "kernelspec": {
   "display_name": "Python 3",
   "language": "python",
   "name": "python3"
  },
  "language_info": {
   "codemirror_mode": {
    "name": "ipython",
    "version": 3
   },
   "file_extension": ".py",
   "mimetype": "text/x-python",
   "name": "python",
   "nbconvert_exporter": "python",
   "pygments_lexer": "ipython3",
   "version": "3.6.5"
  }
 },
 "nbformat": 4,
 "nbformat_minor": 2
}
